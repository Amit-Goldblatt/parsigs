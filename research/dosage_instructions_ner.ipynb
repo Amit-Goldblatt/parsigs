{
 "cells": [
  {
   "cell_type": "code",
   "execution_count": 2,
   "metadata": {},
   "outputs": [
    {
     "name": "stderr",
     "output_type": "stream",
     "text": [
      "2023-04-12 15:38:22.026943: I tensorflow/core/platform/cpu_feature_guard.cc:193] This TensorFlow binary is optimized with oneAPI Deep Neural Network Library (oneDNN) to use the following CPU instructions in performance-critical operations:  AVX2 FMA\n",
      "To enable them in other operations, rebuild TensorFlow with the appropriate compiler flags.\n"
     ]
    }
   ],
   "source": [
    "import pandas as pd\n",
    "import numpy as np\n",
    "import matplotlib.pyplot as plt\n",
    "import sklearn\n",
    "\n",
    "from spacy.cli.train import train\n",
    "import spacy\n"
   ]
  },
  {
   "cell_type": "code",
   "execution_count": 3,
   "metadata": {},
   "outputs": [],
   "source": [
    "DATA_DIR = \"/royashcenazi/downloads/training_20180910\""
   ]
  },
  {
   "attachments": {},
   "cell_type": "markdown",
   "metadata": {},
   "source": [
    "#### This is a very naive start, we are training the model with the same test and validation data"
   ]
  },
  {
   "cell_type": "code",
   "execution_count": 4,
   "metadata": {},
   "outputs": [
    {
     "name": "stdout",
     "output_type": "stream",
     "text": [
      "\u001b[38;5;2m✔ Created output directory: first_model\u001b[0m\n",
      "\u001b[38;5;4mℹ Saving to output directory: first_model\u001b[0m\n",
      "\u001b[38;5;4mℹ Using CPU\u001b[0m\n",
      "\u001b[1m\n",
      "=========================== Initializing pipeline ===========================\u001b[0m\n",
      "\u001b[38;5;2m✔ Initialized pipeline\u001b[0m\n",
      "\u001b[1m\n",
      "============================= Training pipeline =============================\u001b[0m\n",
      "\u001b[38;5;4mℹ Pipeline: ['tok2vec', 'ner']\u001b[0m\n",
      "\u001b[38;5;4mℹ Initial learn rate: 0.0\u001b[0m\n",
      "E    #       LOSS TOK2VEC  LOSS NER  ENTS_F  ENTS_P  ENTS_R  SCORE \n",
      "---  ------  ------------  --------  ------  ------  ------  ------\n",
      "  0       0          0.00    934.35    0.00    0.00    0.00    0.00\n",
      "  3     200        243.37  254003.48    0.00    0.00    0.00    0.00\n",
      "  7     400       2718.09  44274.31    0.13   50.00    0.07    0.00\n",
      " 10     600       5788.58  24754.81   12.32   26.92    7.98    0.12\n",
      " 14     800       7366.95  19384.70   25.32   44.62   17.67    0.25\n",
      " 17    1000      26330.60  16978.85   51.70   63.10   43.80    0.52\n",
      " 21    1200      22332.91  14264.97   54.36   64.53   46.96    0.54\n",
      " 25    1400       9895.50  10947.13   60.93   70.72   53.52    0.61\n",
      " 28    1600        730.26   8724.38   61.54   70.24   54.76    0.62\n",
      " 32    1800        849.58   8553.97   67.03   75.13   60.50    0.67\n",
      " 35    2000       9370.34   7856.68   67.42   75.15   61.13    0.67\n",
      " 39    2200       4244.82   6681.26   70.75   77.42   65.14    0.71\n",
      " 42    2400      16517.44   6113.55   72.11   78.93   66.39    0.72\n",
      " 46    2600       1380.23   4939.16   74.49   81.17   68.82    0.74\n",
      " 50    2800        837.84   4760.20   76.13   82.17   70.93    0.76\n",
      " 53    3000       3865.75   4527.12   77.03   83.06   71.81    0.77\n",
      " 57    3200       1343.61   4015.01   78.28   83.57   73.62    0.78\n",
      " 60    3400        785.02   3789.00   78.90   84.90   73.69    0.79\n",
      " 64    3600        763.94   3263.52   79.44   85.17   74.42    0.79\n",
      " 67    3800        714.55   3164.00   79.90   85.79   74.76    0.80\n",
      "\u001b[38;5;2m✔ Saved pipeline to output directory\u001b[0m\n",
      "first_model/model-last\n"
     ]
    }
   ],
   "source": [
    "train(\"/Users/royashcenazi/Studies/parsigs/research/config/config.cfg\",\n",
    "      output_path='first_model',\n",
    "      overrides={\"paths.train\": \"/Users/royashcenazi/downloads/train_docs.spacy\", \n",
    "                 \"paths.dev\": \"/Users/royashcenazi/downloads/test_docs.spacy\",\n",
    "                 \"training.max_epochs\": 68})"
   ]
  },
  {
   "cell_type": "code",
   "execution_count": 4,
   "metadata": {},
   "outputs": [],
   "source": [
    "trained_nlp = spacy.load('./example_model/model-best')"
   ]
  },
  {
   "attachments": {},
   "cell_type": "markdown",
   "metadata": {},
   "source": [
    "##### first outcome! "
   ]
  },
  {
   "cell_type": "code",
   "execution_count": null,
   "metadata": {},
   "outputs": [],
   "source": []
  },
  {
   "cell_type": "code",
   "execution_count": 5,
   "metadata": {},
   "outputs": [
    {
     "data": {
      "text/plain": [
       "[(1, 'Dosage'),\n",
       " (tablet, 'Form'),\n",
       " (150 mcg, 'Strength'),\n",
       " (two times daily, 'Frequency'),\n",
       " (for one week, 'Duration'),\n",
       " (aderol, 'Drug'),\n",
       " (every day, 'Frequency')]"
      ]
     },
     "execution_count": 5,
     "metadata": {},
     "output_type": "execute_result"
    }
   ],
   "source": [
    "inp = 'TAKE 1 TABLET  (150 MCG TOTAL) BY MOUTH two times DAILY for one week by the way patient id is 303023 and take 2 aderol every day'.lower()\n",
    "[(e, e.label_) for e in trained_nlp(inp).ents]"
   ]
  },
  {
   "cell_type": "code",
   "execution_count": 151,
   "metadata": {},
   "outputs": [
    {
     "name": "stdout",
     "output_type": "stream",
     "text": [
      "[(3, 'Dosage'), (puffs, 'Form'), (albuterol, 'Drug'), (2 times a day, 'Frequency'), (for one week, 'Duration')]\n"
     ]
    }
   ],
   "source": [
    "inp = 'inhale 3 puffs of albuterol 2 times a day for one week patient id is 20202'\n",
    "[(e, e.label_) for e in trained_nlp(inp).ents]"
   ]
  },
  {
   "attachments": {},
   "cell_type": "markdown",
   "metadata": {},
   "source": [
    " We can even parse multuple dosing instructions"
   ]
  },
  {
   "cell_type": "code",
   "execution_count": 171,
   "metadata": {},
   "outputs": [
    {
     "name": "stdout",
     "output_type": "stream",
     "text": [
      "[(3, 'Dosage'), (puffs, 'Form'), (albuterol, 'Drug'), (2 times a day, 'Frequency'), (for one week, 'Duration'), (1, 'Dosage'), (puff, 'Form'), (albuterol, 'Drug'), (every day, 'Frequency'), (for 2 months, 'Duration')]\n"
     ]
    }
   ],
   "source": [
    "inp = 'inhale 3 puffs of albuterol 2 times a day for one week' \\\n",
    "      ' then 1 puff of albuterol every day for 2 months'\n",
    "\n",
    "print([(e, e.label_) for e in trained_nlp(inp).ents])"
   ]
  },
  {
   "cell_type": "code",
   "execution_count": 187,
   "metadata": {},
   "outputs": [
    {
     "name": "stdout",
     "output_type": "stream",
     "text": [
      "[(1, 'Dosage'), (tablet, 'Form'), (20 mg, 'Strength'), (every 2 months, 'Frequency')]\n"
     ]
    },
    {
     "data": {
      "text/plain": [
       "{'DurationType': 'month', 'DurationNum': '2'}"
      ]
     },
     "execution_count": 187,
     "metadata": {},
     "output_type": "execute_result"
    }
   ],
   "source": [
    "inp = 'TAKE 1 TABLET (20 MG) BY MOUTH every 2 months'.lower()\n",
    "print([(e, e.label_) for e in trained_nlp(inp).ents])\n",
    "\n",
    "{\n",
    "    \"DurationType\": \"month\", \n",
    "    \"DurationNum\": \"2\",\n",
    "}\n"
   ]
  },
  {
   "attachments": {},
   "cell_type": "markdown",
   "metadata": {},
   "source": [
    " There are many things to improve, one example is the frequency that can and should be parsed to an interval type and amoubt (e.g type=day, amount=2)\n",
    "\n",
    "Also, the model only recognizes encountered features, so inputting to the model a new sentence, will not be parsed correctly. \n",
    "When we will use the pre-trained Bert model, this issue should be resolved"
   ]
  },
  {
   "cell_type": "code",
   "execution_count": 5,
   "metadata": {},
   "outputs": [
    {
     "ename": "NameError",
     "evalue": "name 'trained_nlp' is not defined",
     "output_type": "error",
     "traceback": [
      "\u001b[0;31m---------------------------------------------------------------------------\u001b[0m",
      "\u001b[0;31mNameError\u001b[0m                                 Traceback (most recent call last)",
      "Cell \u001b[0;32mIn[5], line 4\u001b[0m\n\u001b[1;32m      1\u001b[0m inp \u001b[39m=\u001b[39m \u001b[39m'\u001b[39m\u001b[39mTake 1 tablet of ibuprofen 3 times a day\u001b[39m\u001b[39m'\u001b[39m\n\u001b[0;32m----> 4\u001b[0m [(e, e\u001b[39m.\u001b[39mlabel_) \u001b[39mfor\u001b[39;00m e \u001b[39min\u001b[39;00m trained_nlp(inp)\u001b[39m.\u001b[39ments]\n",
      "\u001b[0;31mNameError\u001b[0m: name 'trained_nlp' is not defined"
     ]
    }
   ],
   "source": [
    "inp = 'Take 1 tablet of ibuprofen 3 times a day'\n",
    "\n",
    "\n",
    "[(e, e.label_) for e in trained_nlp(inp).ents]"
   ]
  },
  {
   "cell_type": "code",
   "execution_count": 179,
   "metadata": {},
   "outputs": [
    {
     "data": {
      "text/plain": [
       "[(aspirin, 'Drug'),\n",
       " (100 mg, 'Strength'),\n",
       " (tablet, 'Form'),\n",
       " (1.5, 'Dosage'),\n",
       " (daily, 'Frequency')]"
      ]
     },
     "execution_count": 179,
     "metadata": {},
     "output_type": "execute_result"
    }
   ],
   "source": [
    "inp = ' ASPIRIN 100 mg Initiate Medication IMMEDIATE RELEASE TABLET 1.5 daily'.lower()\n",
    "\n",
    "[(e, e.label_) for e in trained_nlp(inp).ents]"
   ]
  }
 ],
 "metadata": {
  "kernelspec": {
   "display_name": "Python 3",
   "language": "python",
   "name": "python3"
  },
  "language_info": {
   "codemirror_mode": {
    "name": "ipython",
    "version": 3
   },
   "file_extension": ".py",
   "mimetype": "text/x-python",
   "name": "python",
   "nbconvert_exporter": "python",
   "pygments_lexer": "ipython3",
   "version": "3.10.9"
  },
  "orig_nbformat": 4,
  "vscode": {
   "interpreter": {
    "hash": "aee8b7b246df8f9039afb4144a1f6fd8d2ca17a180786b69acc140d282b71a49"
   }
  }
 },
 "nbformat": 4,
 "nbformat_minor": 2
}
